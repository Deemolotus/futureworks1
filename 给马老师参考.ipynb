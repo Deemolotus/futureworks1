{
 "cells": [
  {
   "cell_type": "code",
   "execution_count": null,
   "id": "86b03b1e",
   "metadata": {},
   "outputs": [],
   "source": [
    "import pandas as pd\n",
    "import numpy as np \n",
    "import chinese_calendar\n",
    "import matplotlib.pyplot as plt\n",
    "import seaborn as sns\n",
    "# 设置支持中文的字体，如 SimHei（黑体），Hiragino Sans GB（冬青黑体）\n",
    "plt.rcParams['font.family'] = 'Hiragino Sans GB'\n",
    "# 解决负号显示问题\n",
    "plt.rcParams['axes.unicode_minus'] = False"
   ]
  },
  {
   "cell_type": "code",
   "execution_count": null,
   "id": "e0d660bb",
   "metadata": {},
   "outputs": [],
   "source": [
    "from sklearn.model_selection import train_test_split\n",
    "from sklearn.ensemble import RandomForestClassifier\n",
    "from sklearn.metrics import accuracy_score\n",
    "from sklearn.metrics import confusion_matrix\n",
    "from sklearn.preprocessing import LabelEncoder\n",
    "from chinese_calendar import is_holiday, get_holiday_detail, get_workdays"
   ]
  },
  {
   "cell_type": "code",
   "execution_count": null,
   "id": "f01901d3",
   "metadata": {},
   "outputs": [],
   "source": [
    "#数据处理\n",
    "df=pd.read_excel(\"国债到期收益率.xlsx\",sheet_name=\"Sheet1\",header=1)\n",
    "\n",
    "#生成周度均值\n",
    "df['指标名称'] = pd.to_datetime(df['指标名称'])\n",
    "df.set_index('指标名称', inplace=True) #确定索引\n",
    "\n",
    "#重采样生成周度均值\n",
    "weekly_means = df.resample('W').mean()\n",
    "weekly_df = weekly_means.reset_index()#重制索引\n",
    "\n",
    "column_names = [1,3,5,7,10,30]\n",
    "\n",
    "for col in column_names:\n",
    "    weekly_df[f'{col}Y_diff'] = weekly_df[f'中债国债到期收益率:{col}年'].diff()*100\n",
    "\n",
    "weekly_df[\"30Y_diff\"].plot(kind=\"line\").axhline(y=1,color='r',linestyle='--')"
   ]
  },
  {
   "cell_type": "code",
   "execution_count": null,
   "id": "2cf97deb",
   "metadata": {},
   "outputs": [],
   "source": [
    "#目标高精度\n",
    "def assign_status_precise(value):\n",
    "    if value > 1:\n",
    "        return 3\n",
    "    elif value <-1:\n",
    "        return 2\n",
    "    else:\n",
    "        return 1\n",
    "\n",
    "#目标高胜率\n",
    "def assign_status_value(value):\n",
    "    if value > 0:\n",
    "        return 3\n",
    "    else:\n",
    "        return 2"
   ]
  },
  {
   "cell_type": "code",
   "execution_count": null,
   "id": "06a07e59",
   "metadata": {},
   "outputs": [],
   "source": [
    "weekly_df_p = weekly_df.copy().dropna()\n",
    "weekly_df_v = weekly_df.copy().dropna()"
   ]
  },
  {
   "cell_type": "code",
   "execution_count": null,
   "id": "c39c1389",
   "metadata": {},
   "outputs": [],
   "source": [
    "for col in weekly_df.columns[-6:]:\n",
    "    weekly_df_p[f'status_{col}'] = weekly_df[f'{col}'].apply(assign_status_precise)\n",
    "    weekly_df_v[f'status_{col}'] = weekly_df[f'{col}'].apply(assign_status_value)"
   ]
  },
  {
   "cell_type": "code",
   "execution_count": null,
   "id": "0aefbbbd",
   "metadata": {},
   "outputs": [],
   "source": [
    "#创建滞后值\n",
    "\n",
    "\n",
    "#生成滞后值，并防止df碎片化\n",
    "\n",
    "# 创建存储滞后列的列表\n",
    "lagged_columns_30Y = []\n",
    "\n",
    "\n",
    "# 生成滞后 56期的列\n",
    "for i in range(1, 57):\n",
    "    lagged_columns_30Y.append(weekly_df_p['status_30Y_diff'].shift(i).rename(f'status_30Y_lag_{i}'))\n",
    "    \n",
    "    \n",
    "# 合并所有滞后列\n",
    "lagged_df = pd.concat(lagged_columns_30Y,axis=1)\n",
    "\n",
    "# 将滞后列合并到原始 DataFrame\n",
    "weekly_df_p = pd.concat([weekly_df_p, lagged_df], axis=1)\n",
    "\n",
    "weekly_df_p=weekly_df_p.dropna()"
   ]
  },
  {
   "cell_type": "code",
   "execution_count": null,
   "id": "78bfdede",
   "metadata": {},
   "outputs": [],
   "source": [
    "# X是特征，y目标变量\n",
    "X = weekly_df_p.iloc[:,-56:-36]\n",
    "X['T']=range(1, len(X) + 1)\n",
    "y = weekly_df_p.iloc[:, 18]  # 选取当前值作为目标变量"
   ]
  },
  {
   "cell_type": "code",
   "execution_count": null,
   "id": "660932aa",
   "metadata": {},
   "outputs": [],
   "source": [
    "# 数据划分\n",
    "X_train, X_test, y_train, y_test = train_test_split(X, y, test_size=0.3, random_state=42)\n",
    "\n",
    "# 创建随机森林分类\n",
    "model = RandomForestClassifier(n_estimators=20000, random_state=42,max_depth=6)\n",
    "                         \n",
    "\n",
    "# 模型训练\n",
    "model.fit(X_train, y_train)\n",
    "\n",
    "# 模型预测\n",
    "y_pred = model.predict(X_test)\n",
    "y_pred_train = model.predict(X_train)\n",
    "\n",
    "# 模型评估-测试集\n",
    "accuracy = accuracy_score(y_test, y_pred)\n",
    "print(f\"测试集模型准确率: {accuracy}\")\n",
    "\n",
    "# 模型评估-训练集\n",
    "accuracy = accuracy_score(y_train, y_pred_train)\n",
    "print(f\"训练集模型准确率: {accuracy}\")\n",
    "\n",
    "# 绘制混淆矩阵\n",
    "cm = confusion_matrix(y_test, y_pred)\n",
    "# 获取唯一原始标签\n",
    "unique_labels = sorted(set(y_test).union(set(y_pred)))\n",
    "sns.heatmap(cm, annot=True, fmt='d', cmap='Blues', xticklabels=unique_labels, yticklabels=unique_labels)\n",
    "plt.xlabel('预测标签')\n",
    "plt.ylabel('真实标签')\n",
    "plt.title('测试集混淆矩阵')\n",
    "#plt.savefig('R001-OMO测试集混淆矩阵.png', dpi=300, bbox_inches='tight')\n",
    "plt.show()\n",
    "\n",
    "\n",
    "# 绘制混淆矩阵\n",
    "cm = confusion_matrix(y_train, y_pred_train)\n",
    "# 获取唯一原始标签\n",
    "unique_labels = sorted(set(y_train).union(set(y_pred_train)))\n",
    "sns.heatmap(cm, annot=True, fmt='d', cmap='Blues', xticklabels=unique_labels, yticklabels=unique_labels)\n",
    "plt.xlabel('预测标签')\n",
    "plt.ylabel('真实标签')\n",
    "plt.title('训练集混淆矩阵')\n",
    "#plt.savefig('R001-OMO训练集混淆矩阵.png', dpi=300, bbox_inches='tight')\n",
    "plt.show()"
   ]
  },
  {
   "cell_type": "code",
   "execution_count": null,
   "id": "8ce0306d",
   "metadata": {},
   "outputs": [],
   "source": [
    "T=X.iloc[:,-1]\n",
    "t=T.iloc[-1]+1\n",
    "X_out=X.iloc[-1,:-2].to_frame().T\n",
    "X_out.insert(0,\"new_column\",y.iloc[-1])\n",
    "X_out.insert(20,\"T\",t)\n",
    "\n",
    "if len(X_out.columns) == len(X.columns):\n",
    "# 替换列名\n",
    "    X_out.columns = X.columns\n",
    "else:\n",
    "    print(\"df1 和 df2 的列数不同，无法直接替换列名。\")\n",
    "\n",
    "# 用于存储每次的预测结果。注意不能重复运行，X_out的数值会改变。\n",
    "predictions = []\n",
    "\n",
    "n=15\n",
    "# 迭代预测n期\n",
    "for _ in range(n):\n",
    "    # 进行预测\n",
    "    next_prediction = model.predict(X_out)\n",
    "    #把预测值放进集合\n",
    "    predictions.append(next_prediction[0])\n",
    "    X_out=X_out.iloc[-1,:-2].to_frame().T\n",
    "    t+=1\n",
    "    X_out.insert(0,\"new_column\",next_prediction[0])\n",
    "    X_out.insert(20,\"T\",t)\n",
    "    X_out.columns = X.columns\n",
    "    \n",
    "print(\"迭代n期的预测结果:\", predictions,\"注意：预测效力会随着外推减弱\")"
   ]
  }
 ],
 "metadata": {
  "kernelspec": {
   "display_name": "Python 3 (ipykernel)",
   "language": "python",
   "name": "python3"
  },
  "language_info": {
   "codemirror_mode": {
    "name": "ipython",
    "version": 3
   },
   "file_extension": ".py",
   "mimetype": "text/x-python",
   "name": "python",
   "nbconvert_exporter": "python",
   "pygments_lexer": "ipython3",
   "version": "3.9.7"
  },
  "toc": {
   "base_numbering": 1,
   "nav_menu": {},
   "number_sections": true,
   "sideBar": true,
   "skip_h1_title": false,
   "title_cell": "Table of Contents",
   "title_sidebar": "Contents",
   "toc_cell": false,
   "toc_position": {},
   "toc_section_display": true,
   "toc_window_display": false
  }
 },
 "nbformat": 4,
 "nbformat_minor": 5
}
